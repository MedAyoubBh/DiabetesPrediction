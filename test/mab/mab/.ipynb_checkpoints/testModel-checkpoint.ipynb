{
 "cells": [
  {
   "cell_type": "code",
   "execution_count": 3,
   "id": "dbf8e8a8",
   "metadata": {},
   "outputs": [],
   "source": [
    "import pandas as pd\n",
    "from sklearn.neural_network import MLPClassifier\n",
    "\n"
   ]
  },
  {
   "cell_type": "code",
   "execution_count": 6,
   "id": "99460ac2",
   "metadata": {},
   "outputs": [],
   "source": [
    "\n",
    "df=pd.read_csv('diabetes.csv')\n",
    "df.head()\n",
    "X=df[['Pregnancies','Glucose','BloodPressure','SkinThickness','Insulin','BMI','DiabetesPedigreeFunction','Age']].values\n",
    "y=df['Outcome'].values\n"
   ]
  },
  {
   "cell_type": "code",
   "execution_count": 35,
   "id": "d506f6fc",
   "metadata": {},
   "outputs": [
    {
     "name": "stdout",
     "output_type": "stream",
     "text": [
      "Accuracy =  100.0 %\n"
     ]
    },
    {
     "data": {
      "text/plain": [
       "array([1], dtype=int64)"
      ]
     },
     "execution_count": 35,
     "metadata": {},
     "output_type": "execute_result"
    }
   ],
   "source": [
    "model=MLPClassifier(hidden_layer_sizes=(100,80,50),max_iter=100000,solver=\"lbfgs\",random_state=3)\n",
    "model.fit(X,y)\n",
    "print('Accuracy = ',model.score(X,y)*100,'%')\n",
    "model.predict([[6,148,72,35,0,33.6,0.627,50]])\n"
   ]
  },
  {
   "cell_type": "code",
   "execution_count": null,
   "id": "b7974f75",
   "metadata": {},
   "outputs": [],
   "source": []
  }
 ],
 "metadata": {
  "kernelspec": {
   "display_name": "Python 3 (ipykernel)",
   "language": "python",
   "name": "python3"
  },
  "language_info": {
   "codemirror_mode": {
    "name": "ipython",
    "version": 3
   },
   "file_extension": ".py",
   "mimetype": "text/x-python",
   "name": "python",
   "nbconvert_exporter": "python",
   "pygments_lexer": "ipython3",
   "version": "3.7.4"
  }
 },
 "nbformat": 4,
 "nbformat_minor": 5
}
